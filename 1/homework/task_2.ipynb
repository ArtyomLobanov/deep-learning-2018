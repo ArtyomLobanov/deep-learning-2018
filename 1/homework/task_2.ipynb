{
 "cells": [
  {
   "cell_type": "markdown",
   "metadata": {},
   "source": [
    "## Assigment: Neural network basics"
   ]
  },
  {
   "cell_type": "markdown",
   "metadata": {},
   "source": [
    "Soft deadline: 16.09.18 at 23.59\n",
    "\n",
    "Hard deadline: 18.09.18 at 23.59"
   ]
  },
  {
   "cell_type": "markdown",
   "metadata": {},
   "source": [
    "For this task I intentionally provide no boilerplate code, because very puprpose of this task is getting you comforatable with basic code template for desiging NNs in pytorch. I higly recommend you to revisit all the last seminar materials."
   ]
  },
  {
   "cell_type": "markdown",
   "metadata": {},
   "source": [
    "#### Task\n",
    "\n",
    "* Implement simple **fully-convolutional** neural architecture for classification. Make sure it is small enought to run on your home machine.\n",
    "* Provide dataset visulization.\n",
    "* Provide train/test split and validation\n",
    "\n",
    "#### Requirements\n",
    "\n",
    "* Architecture should derive from `torch.nn.Module`\n",
    "* Use `torch.utils.data.Dataset` and `torch.utils.data.DataLoader`. But if you manage co simplify this step using dataset `torchivision`, I will only encourage you.\n",
    "* Implement at least one data transformer, but make sure it is useful for classification task.\n",
    "* Use FashionMNIST dataset https://github.com/zalandoresearch/fashion-mnist\n",
    "* Make sure you can fix random seed for all components of your code to make experiments reproducible\n",
    "* Since you architecure should be fully-convolutional, make sure it does not depend on input size."
   ]
  },
  {
   "cell_type": "code",
   "execution_count": 1,
   "metadata": {},
   "outputs": [],
   "source": [
    "%matplotlib inline\n",
    "\n",
    "#TODO\n",
    "\n",
    "import matplotlib.pyplot as plt\n",
    "from IPython import display\n",
    "\n",
    "import itertools\n",
    "import random\n",
    "import time\n",
    "\n",
    "import numpy\n",
    "\n",
    "import torch\n",
    "import torch.nn as nn\n",
    "\n",
    "import torchvision\n",
    "from torchvision.transforms import ToTensor, Normalize, Compose\n",
    "from torchvision.datasets import FashionMNIST\n",
    "from torch.utils.data import DataLoader\n",
    "from torch.nn import Module, ReLU, MaxPool2d, Conv2d, Linear, CrossEntropyLoss\n",
    "\n",
    "\n",
    "torch.manual_seed(566)\n",
    "random.seed(566)"
   ]
  },
  {
   "cell_type": "code",
   "execution_count": 2,
   "metadata": {},
   "outputs": [],
   "source": [
    "workspace = 'workspace'\n",
    "origin = FashionMNIST(workspace, download=True, transform=ToTensor())\n",
    "\n",
    "tmp = iter(DataLoader(origin, batch_size=len(origin))).next()[0]\n",
    "features_mean, features_std = tmp.mean().item(), tmp.std().item()\n",
    "\n",
    "data_transform = Compose([ToTensor(), Normalize((features_mean,), (features_std,))])\n",
    "\n",
    "train = FashionMNIST(workspace, download=True, transform=data_transform)\n",
    "test = FashionMNIST(workspace, train=False, download=True, transform=data_transform)"
   ]
  },
  {
   "cell_type": "code",
   "execution_count": 3,
   "metadata": {},
   "outputs": [
    {
     "name": "stdout",
     "output_type": "stream",
     "text": [
      "Classes representers:\n"
     ]
    },
    {
     "data": {
      "image/png": "[encoded data removed]",
      "text/plain": [
       "<Figure size 1080x1080 with 1 Axes>"
      ]
     },
     "metadata": {},
     "output_type": "display_data"
    }
   ],
   "source": [
    "def draw_images(images):\n",
    "    fig, ax = plt.subplots(figsize=(15, 15))\n",
    "    plt.axis('off')\n",
    "    numpy_images = numpy.concatenate([image.numpy().reshape(28, 28).T for image in images]).T\n",
    "    ax.imshow(numpy_images, cmap='gray', interpolation='nearest')\n",
    "\n",
    "def show_representers():\n",
    "    samples = DataLoader(dataset=origin, batch_size=1000)\n",
    "    representers = {}\n",
    "    images, labels = iter(samples).next()\n",
    "    for image, label in zip(images, labels):\n",
    "        if label.item() not in representers.keys():\n",
    "            representers[label.item()] = image\n",
    "    print(\"Classes representers:\")\n",
    "    draw_images([representers[i] for i in sorted(representers.keys())])\n",
    "    \n",
    "show_representers()"
   ]
  },
  {
   "cell_type": "code",
   "execution_count": 4,
   "metadata": {},
   "outputs": [],
   "source": [
    "class MyOwnCNN(torch.nn.Module):\n",
    "    def __init__(self):\n",
    "        super(MyOwnCNN, self).__init__()\n",
    "\n",
    "        self.convolution_layers = nn.Sequential(\n",
    "            Conv2d(1, 3, 5, padding=2),\n",
    "            ReLU(),\n",
    "            MaxPool2d(2),\n",
    "            Conv2d(3, 5, 5, padding=2),\n",
    "            ReLU(),\n",
    "            MaxPool2d(2))\n",
    "        self.linear_layers = nn.Sequential(\n",
    "            Linear(7 * 7 * 5, 64),\n",
    "            ReLU(),\n",
    "            Linear(64, 10))\n",
    "\n",
    "    def forward(self, x):\n",
    "        x = self.convolution_layers(x)\n",
    "        x = x.view(-1, 7 * 7 * 5)\n",
    "        x = self.linear_layers(x)\n",
    "        return x"
   ]
  },
  {
   "cell_type": "code",
   "execution_count": 5,
   "metadata": {},
   "outputs": [
    {
     "name": "stdout",
     "output_type": "stream",
     "text": [
      "Step #0, train loss=0.45147204399108887, test_loss=0.4791747033596039\n",
      "         train accuracy=0.8362500071525574, test accuracy=0.8259999752044678\n",
      "Step #1, train loss=0.3821433186531067, test_loss=0.4147109389305115\n",
      "         train accuracy=0.8611833453178406, test accuracy=0.847000002861023\n",
      "Step #2, train loss=0.3435918092727661, test_loss=0.3775032162666321\n",
      "         train accuracy=0.8734666705131531, test accuracy=0.8644000291824341\n",
      "Step #3, train loss=0.3310707211494446, test_loss=0.3693346679210663\n",
      "         train accuracy=0.8792499899864197, test accuracy=0.8675000071525574\n",
      "Step #4, train loss=0.30919331312179565, test_loss=0.35344138741493225\n",
      "         train accuracy=0.8862666487693787, test accuracy=0.8733000159263611\n",
      "Step #5, train loss=0.2959403097629547, test_loss=0.34481292963027954\n",
      "         train accuracy=0.8916000127792358, test accuracy=0.8748000264167786\n",
      "Step #6, train loss=0.28009259700775146, test_loss=0.3266415297985077\n",
      "         train accuracy=0.8980000019073486, test accuracy=0.8779000043869019\n",
      "Step #7, train loss=0.2815553843975067, test_loss=0.33270519971847534\n",
      "         train accuracy=0.8972166776657104, test accuracy=0.879800021648407\n",
      "Step #8, train loss=0.26368406414985657, test_loss=0.3183284103870392\n",
      "         train accuracy=0.9013833403587341, test accuracy=0.8820000290870667\n",
      "Step #9, train loss=0.2601275146007538, test_loss=0.316719651222229\n",
      "         train accuracy=0.9028000235557556, test accuracy=0.885200023651123\n",
      "Step #10, train loss=0.25421202182769775, test_loss=0.31633028388023376\n",
      "         train accuracy=0.9048333168029785, test accuracy=0.8830000162124634\n",
      "Step #11, train loss=0.24122606217861176, test_loss=0.30409637093544006\n",
      "         train accuracy=0.9094833135604858, test accuracy=0.890500009059906\n",
      "Step #12, train loss=0.23376822471618652, test_loss=0.29978156089782715\n",
      "         train accuracy=0.9125000238418579, test accuracy=0.8920000195503235\n",
      "Step #13, train loss=0.24843035638332367, test_loss=0.32104524970054626\n",
      "         train accuracy=0.9063166379928589, test accuracy=0.8833000063896179\n",
      "Step #14, train loss=0.23735447227954865, test_loss=0.3138798475265503\n",
      "         train accuracy=0.9109833240509033, test accuracy=0.8888000249862671\n",
      "Step #15, train loss=0.22733566164970398, test_loss=0.3049604594707489\n",
      "         train accuracy=0.9133999943733215, test accuracy=0.8901000022888184\n",
      "Step #16, train loss=0.21828751266002655, test_loss=0.3027680516242981\n",
      "         train accuracy=0.9188166856765747, test accuracy=0.8913999795913696\n",
      "Step #17, train loss=0.22033986449241638, test_loss=0.3049631416797638\n",
      "         train accuracy=0.9154999852180481, test accuracy=0.8870000243186951\n",
      "Step #18, train loss=0.19792413711547852, test_loss=0.2888771593570709\n",
      "         train accuracy=0.9262499809265137, test accuracy=0.895799994468689\n",
      "Step #19, train loss=0.20159269869327545, test_loss=0.29782262444496155\n",
      "         train accuracy=0.9263833165168762, test accuracy=0.8956000208854675\n"
     ]
    }
   ],
   "source": [
    "def train_classifier(classifier, loss_function, steps, batch, lr, train, test):\n",
    "    batch_loader = DataLoader(train, batch_size=batch, shuffle=True)\n",
    "    train_loader = DataLoader(train, batch_size=len(train))\n",
    "    test_loader = DataLoader(test, batch_size=len(test))\n",
    "    \n",
    "    \n",
    "    train_features, train_marks = iter(train_loader).next()\n",
    "    test_features, test_marks = iter(test_loader).next()\n",
    "    \n",
    "    optimizer = torch.optim.Adam(classifier.parameters(), lr=lr)\n",
    "    \n",
    "    train_loss = []\n",
    "    test_loss = []\n",
    "    train_accuracy = []\n",
    "    test_accuracy = []\n",
    "\n",
    "    for step in range(steps):\n",
    "        for features, marks in batch_loader:\n",
    "            optimizer.zero_grad()\n",
    "            predictions = classifier(features)\n",
    "            loss_value = loss_function(predictions, marks)\n",
    "            loss_value.backward()\n",
    "            optimizer.step()\n",
    "            \n",
    "        with torch.no_grad():\n",
    "            train_predictions = classifier(train_features)\n",
    "            test_predictions = classifier(test_features)\n",
    "            train_loss.append(loss_function(train_predictions, train_marks).item())\n",
    "            test_loss.append(loss_function(classifier(test_features), test_marks).item())\n",
    "            train_accuracy.append(torch.mean(torch.eq(torch.argmax(train_predictions, 1), train_marks).float()).item())\n",
    "            test_accuracy.append(torch.mean(torch.eq(torch.argmax(test_predictions, 1), test_marks).float()).item())\n",
    "        print(\"Step #\", step, \", train loss=\", train_loss[-1], \", test_loss=\", test_loss[-1], sep='')\n",
    "        print(\"         train accuracy=\", train_accuracy[-1], \", test accuracy=\", test_accuracy[-1], sep='')\n",
    "\n",
    "    return train_loss, train_accuracy, test_loss, test_accuracy\n",
    "    \n",
    "train_log, train_accuracy, test_log, test_accuracy = train_classifier(MyOwnCNN(), CrossEntropyLoss(), 20, 100, 0.001, train, test)"
   ]
  },
  {
   "cell_type": "code",
   "execution_count": 6,
   "metadata": {},
   "outputs": [],
   "source": [
    "def show_plot(y1, label1, y2, label2):\n",
    "    plt.clf()\n",
    "    plt.plot(y1, label=label1)\n",
    "    plt.plot(y2, label=label2)\n",
    "    plt.legend()\n",
    "    plt.show()"
   ]
  },
  {
   "cell_type": "markdown",
   "metadata": {},
   "source": [
    "# График функции потерь"
   ]
  },
  {
   "cell_type": "code",
   "execution_count": 7,
   "metadata": {},
   "outputs": [
    {
     "data": {
      "image/png": "[encoded data removed]",
      "text/plain": [
       "<Figure size 432x288 with 1 Axes>"
      ]
     },
     "metadata": {},
     "output_type": "display_data"
    }
   ],
   "source": [
    "show_plot(train_log, 'train loss', test_log, 'test log')"
   ]
  },
  {
   "cell_type": "markdown",
   "metadata": {},
   "source": [
    "# График точности"
   ]
  },
  {
   "cell_type": "code",
   "execution_count": 8,
   "metadata": {},
   "outputs": [
    {
     "data": {
      "image/png": "[encoded data removed]",
      "text/plain": [
       "<Figure size 432x288 with 1 Axes>"
      ]
     },
     "metadata": {},
     "output_type": "display_data"
    }
   ],
   "source": [
    "show_plot(train_accuracy, 'train accuracy', test_accuracy, 'test accuracy')"
   ]
  }
 ],
 "metadata": {
  "kernelspec": {
   "display_name": "Python 3",
   "language": "python",
   "name": "python3"
  },
  "language_info": {
   "codemirror_mode": {
    "name": "ipython",
    "version": 3
   },
   "file_extension": ".py",
   "mimetype": "text/x-python",
   "name": "python",
   "nbconvert_exporter": "python",
   "pygments_lexer": "ipython3",
   "version": "3.6.5"
  }
 },
 "nbformat": 4,
 "nbformat_minor": 2
}
