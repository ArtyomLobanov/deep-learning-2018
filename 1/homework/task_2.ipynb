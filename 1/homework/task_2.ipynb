{
 "cells": [
  {
   "cell_type": "markdown",
   "metadata": {},
   "source": [
    "## Assigment: Neural network basics"
   ]
  },
  {
   "cell_type": "markdown",
   "metadata": {},
   "source": [
    "Soft deadline: 16.09.18 at 23.59\n",
    "\n",
    "Hard deadline: 18.09.18 at 23.59"
   ]
  },
  {
   "cell_type": "markdown",
   "metadata": {},
   "source": [
    "For this task I intentionally provide no boilerplate code, because very puprpose of this task is getting you comforatable with basic code template for desiging NNs in pytorch. I higly recommend you to revisit all the last seminar materials."
   ]
  },
  {
   "cell_type": "markdown",
   "metadata": {},
   "source": [
    "#### Task\n",
    "\n",
    "* Implement simple **fully-convolutional** neural architecture for classification. Make sure it is small enought to run on your home machine.\n",
    "* Provide dataset visulization.\n",
    "* Provide train/test split and validation\n",
    "\n",
    "#### Requirements\n",
    "\n",
    "* Architecture should derive from `torch.nn.Module`\n",
    "* Use `torch.utils.data.Dataset` and `torch.utils.data.DataLoader`. But if you manage co simplify this step using dataset `torchivision`, I will only encourage you.\n",
    "* Implement at least one data transformer, but make sure it is useful for classification task.\n",
    "* Use FashionMNIST dataset https://github.com/zalandoresearch/fashion-mnist\n",
    "* Make sure you can fix random seed for all components of your code to make experiments reproducible\n",
    "* Since you architecure should be fully-convolutional, make sure it does not depend on input size."
   ]
  },
  {
   "cell_type": "code",
   "execution_count": 1,
   "metadata": {},
   "outputs": [],
   "source": [
    "%matplotlib inline\n",
    "\n",
    "#TODO\n",
    "\n",
    "import matplotlib.pyplot as plt\n",
    "from IPython import display\n",
    "\n",
    "import itertools\n",
    "import random\n",
    "import time\n",
    "\n",
    "import numpy\n",
    "\n",
    "import torch\n",
    "import torch.nn as nn\n",
    "\n",
    "import torchvision\n",
    "from torchvision.transforms import ToTensor, Normalize, Compose\n",
    "from torchvision.datasets import FashionMNIST\n",
    "from torch.utils.data import DataLoader\n",
    "from torch.nn import Module, ReLU, MaxPool2d, Conv2d, Linear, CrossEntropyLoss\n",
    "\n",
    "\n",
    "torch.manual_seed(566)\n",
    "random.seed(566)"
   ]
  },
  {
   "cell_type": "code",
   "execution_count": 2,
   "metadata": {},
   "outputs": [],
   "source": [
    "data_transform = Compose([ToTensor(), Normalize((0.5,), (0.5,))])\n",
    "workspace = 'workspace'\n",
    "origin = FashionMNIST(workspace, download=True, transform=ToTensor())\n",
    "train = FashionMNIST(workspace, download=True, transform=data_transform)\n",
    "test = FashionMNIST(workspace, train=False, download=True, transform=data_transform)\n"
   ]
  },
  {
   "cell_type": "code",
   "execution_count": 3,
   "metadata": {},
   "outputs": [
    {
     "name": "stdout",
     "output_type": "stream",
     "text": [
      "Classes representers:\n"
     ]
    },
    {
     "data": {
      "image/png": "[encoded data removed]",
      "text/plain": [
       "<Figure size 1080x1080 with 1 Axes>"
      ]
     },
     "metadata": {},
     "output_type": "display_data"
    }
   ],
   "source": [
    "def draw_images(images):\n",
    "    fig, ax = plt.subplots(figsize=(15, 15))\n",
    "    plt.axis('off')\n",
    "    numpy_images = numpy.concatenate([image.numpy().reshape(28, 28).T for image in images]).T\n",
    "    ax.imshow(numpy_images, cmap='gray', interpolation='nearest')\n",
    "\n",
    "def show_representers():\n",
    "    samples = DataLoader(dataset=origin, batch_size=1000)\n",
    "    representers = {}\n",
    "    images, labels = iter(samples).next()\n",
    "    for image, label in zip(images, labels):\n",
    "        if label.item() not in representers.keys():\n",
    "            representers[label.item()] = image\n",
    "    print(\"Classes representers:\")\n",
    "    draw_images([representers[i] for i in sorted(representers.keys())])\n",
    "    \n",
    "show_representers()"
   ]
  },
  {
   "cell_type": "code",
   "execution_count": 4,
   "metadata": {},
   "outputs": [],
   "source": [
    "class MyOwnCNN(torch.nn.Module):\n",
    "    def __init__(self):\n",
    "        super(MyOwnCNN, self).__init__()\n",
    "\n",
    "        self.convolution_layers = nn.Sequential(\n",
    "            Conv2d(1, 3, 5, padding=2),\n",
    "            ReLU(),\n",
    "            MaxPool2d(2),\n",
    "            Conv2d(3, 5, 5, padding=2),\n",
    "            ReLU(),\n",
    "            MaxPool2d(2))\n",
    "        self.linear_layers = nn.Sequential(\n",
    "            Linear(7 * 7 * 5, 64),\n",
    "            ReLU(),\n",
    "            Linear(64, 10))\n",
    "\n",
    "    def forward(self, x):\n",
    "        x = self.convolution_layers(x)\n",
    "        x = x.view(-1, 7 * 7 * 5)\n",
    "        x = self.linear_layers(x)\n",
    "        return x"
   ]
  },
  {
   "cell_type": "code",
   "execution_count": null,
   "metadata": {},
   "outputs": [],
   "source": [
    "def train_classifier(classifier, loss_function, steps, batch, lr, train, test):\n",
    "    batch_loader = DataLoader(train, batch_size=batch, shuffle=True)\n",
    "    train_loader = DataLoader(train, batch_size=len(train))\n",
    "    test_loader = DataLoader(test, batch_size=len(test))\n",
    "    \n",
    "    \n",
    "    train_features, train_marks = iter(train_loader).next()\n",
    "    test_features, test_marks = iter(test_loader).next()\n",
    "    \n",
    "    optimizer = torch.optim.Adam(classifier.parameters(), lr=lr)\n",
    "    \n",
    "    train_loss = []\n",
    "    test_loss = []\n",
    "\n",
    "    for step in range(steps):\n",
    "        for features, marks in batch_loader:\n",
    "            optimizer.zero_grad()\n",
    "            predictions = classifier(features)\n",
    "            loss_value = loss_function(predictions, marks)\n",
    "            loss_value.backward()\n",
    "            optimizer.step()\n",
    "            \n",
    "        with torch.no_grad():\n",
    "            train_loss.append(loss_function(classifier(train_features), train_marks).item())\n",
    "            test_loss.append(loss_function(classifier(test_features), test_marks).item())\n",
    "        print(\"Step #\", step, \", train loss=\", train_loss[-1], \", test_loss=\", test_loss[-1], sep='')\n",
    "\n",
    "    return train_loss, test_loss\n",
    "    \n",
    "train_log, test_log = train_classifier(MyOwnCNN(), CrossEntropyLoss(), 20, 100, 0.001, train, test)"
   ]
  },
  {
   "cell_type": "code",
   "execution_count": null,
   "metadata": {},
   "outputs": [],
   "source": [
    "def show_plot(values):\n",
    "    plt.clf()\n",
    "    plt.plot(values)\n",
    "    plt.legend()\n",
    "    plt.show()"
   ]
  },
  {
   "cell_type": "markdown",
   "metadata": {},
   "source": [
    "# График функции потерь на обучающей выборке"
   ]
  },
  {
   "cell_type": "code",
   "execution_count": null,
   "metadata": {},
   "outputs": [],
   "source": [
    "show_plot(train_log)"
   ]
  },
  {
   "cell_type": "markdown",
   "metadata": {},
   "source": [
    "# График функции потерь на тестовой выборке"
   ]
  },
  {
   "cell_type": "code",
   "execution_count": null,
   "metadata": {},
   "outputs": [],
   "source": [
    "show_plot(test_log)"
   ]
  },
  {
   "cell_type": "code",
   "execution_count": null,
   "metadata": {},
   "outputs": [],
   "source": []
  }
 ],
 "metadata": {
  "kernelspec": {
   "display_name": "Python 3",
   "language": "python",
   "name": "python3"
  },
  "language_info": {
   "codemirror_mode": {
    "name": "ipython",
    "version": 3
   },
   "file_extension": ".py",
   "mimetype": "text/x-python",
   "name": "python",
   "nbconvert_exporter": "python",
   "pygments_lexer": "ipython3",
   "version": "3.6.5"
  }
 },
 "nbformat": 4,
 "nbformat_minor": 2
}
